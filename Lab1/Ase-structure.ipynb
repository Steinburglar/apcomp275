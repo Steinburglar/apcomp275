{
 "cells": [
  {
   "cell_type": "markdown",
   "metadata": {},
   "source": [
    "# Making and manipulating structures with ASE\n",
    "For preparing and manipulating crystal structures we will be using the ASE Python library. The documentation is rather accessible and even includes a refresher of Python basics. You can read it here, in preparation for the first lab: https://wiki.fysik.dtu.dk/ase/python.html.\n",
    "Here we will learn various functionalities of ASE, particularly how to make crystal structures, generate supercells, remove an atom to form a vacancy, and change an atom’s position.\n",
    "\n",
    "ASE Atoms object holds all the information about our structure and has methods for manipulating it. Once we finish with the structurem, we will export it to a simple Python dictionary that is then used to generate the LAMMPS data and input files."
   ]
  },
  {
   "cell_type": "markdown",
   "metadata": {},
   "source": [
    "First we will create a crystal structure of Na metal. For this we will import the necessary spacegroup tools, so that we don't have to manually set up the cell and coordinates. "
   ]
  },
  {
   "cell_type": "code",
   "execution_count": 1,
   "metadata": {},
   "outputs": [],
   "source": [
    "from ase.spacegroup import crystal"
   ]
  },
  {
   "cell_type": "code",
   "execution_count": 2,
   "metadata": {},
   "outputs": [],
   "source": [
    "a = 4.5\n",
    "Na_unitcell = crystal(\"Na\", [(0, 0, 0)], spacegroup=229, cellpar=[a, a, a, 90, 90, 90])"
   ]
  },
  {
   "cell_type": "code",
   "execution_count": 3,
   "metadata": {},
   "outputs": [
    {
     "name": "stdout",
     "output_type": "stream",
     "text": [
      "hello\n"
     ]
    }
   ],
   "source": [
    "print(\"hello\")"
   ]
  },
  {
   "cell_type": "markdown",
   "metadata": {},
   "source": [
    "Now we verify that our structure indeed has atoms in the right places"
   ]
  },
  {
   "cell_type": "code",
   "execution_count": 4,
   "metadata": {},
   "outputs": [
    {
     "data": {
      "text/plain": [
       "array([[0.  , 0.  , 0.  ],\n",
       "       [2.25, 2.25, 2.25]])"
      ]
     },
     "execution_count": 4,
     "metadata": {},
     "output_type": "execute_result"
    }
   ],
   "source": [
    "Na_unitcell.positions"
   ]
  },
  {
   "cell_type": "code",
   "execution_count": 5,
   "metadata": {},
   "outputs": [
    {
     "data": {
      "text/plain": [
       "['Na', 'Na']"
      ]
     },
     "execution_count": 5,
     "metadata": {},
     "output_type": "execute_result"
    }
   ],
   "source": [
    "Na_unitcell.get_chemical_symbols()"
   ]
  },
  {
   "cell_type": "markdown",
   "metadata": {},
   "source": [
    "We can make a supercell of this structure by rescaling the cell. Here we use NumPy's matrix capability."
   ]
  },
  {
   "cell_type": "code",
   "execution_count": 6,
   "metadata": {},
   "outputs": [
    {
     "name": "stdout",
     "output_type": "stream",
     "text": [
      "[[2. 0. 0.]\n",
      " [0. 2. 0.]\n",
      " [0. 0. 2.]]\n"
     ]
    }
   ],
   "source": [
    "import numpy\n",
    "\n",
    "multiplier = numpy.identity(3) * 2\n",
    "print(multiplier)"
   ]
  },
  {
   "cell_type": "code",
   "execution_count": 7,
   "metadata": {
    "scrolled": true
   },
   "outputs": [
    {
     "data": {
      "text/plain": [
       "array([[0.  , 0.  , 0.  ],\n",
       "       [2.25, 2.25, 2.25],\n",
       "       [0.  , 0.  , 4.5 ],\n",
       "       [2.25, 2.25, 6.75],\n",
       "       [0.  , 4.5 , 0.  ],\n",
       "       [2.25, 6.75, 2.25],\n",
       "       [0.  , 4.5 , 4.5 ],\n",
       "       [2.25, 6.75, 6.75],\n",
       "       [4.5 , 0.  , 0.  ],\n",
       "       [6.75, 2.25, 2.25],\n",
       "       [4.5 , 0.  , 4.5 ],\n",
       "       [6.75, 2.25, 6.75],\n",
       "       [4.5 , 4.5 , 0.  ],\n",
       "       [6.75, 6.75, 2.25],\n",
       "       [4.5 , 4.5 , 4.5 ],\n",
       "       [6.75, 6.75, 6.75]])"
      ]
     },
     "execution_count": 7,
     "metadata": {},
     "output_type": "execute_result"
    }
   ],
   "source": [
    "from ase.build import make_supercell\n",
    "\n",
    "Na_supercell = make_supercell(Na_unitcell, multiplier)\n",
    "Na_supercell.positions"
   ]
  },
  {
   "cell_type": "raw",
   "metadata": {},
   "source": [
    "We now have a structure with 16 atoms. "
   ]
  },
  {
   "cell_type": "markdown",
   "metadata": {},
   "source": [
    "It is possible to change the position of the first atom directly like this:"
   ]
  },
  {
   "cell_type": "code",
   "execution_count": 8,
   "metadata": {},
   "outputs": [],
   "source": [
    "Na_supercell.positions[0] = (0.5, 0.5, 0.5)"
   ]
  },
  {
   "cell_type": "markdown",
   "metadata": {},
   "source": [
    "Similarly, we can change the type of the first atom by reassigning the atomic number"
   ]
  },
  {
   "cell_type": "code",
   "execution_count": 9,
   "metadata": {},
   "outputs": [
    {
     "name": "stdout",
     "output_type": "stream",
     "text": [
      "[11 11 11 11 11 11 11 11 11 11 11 11 11 11 11 11]\n"
     ]
    },
    {
     "data": {
      "text/plain": [
       "['Li',\n",
       " 'Na',\n",
       " 'Na',\n",
       " 'Na',\n",
       " 'Na',\n",
       " 'Na',\n",
       " 'Na',\n",
       " 'Na',\n",
       " 'Na',\n",
       " 'Na',\n",
       " 'Na',\n",
       " 'Na',\n",
       " 'Na',\n",
       " 'Na',\n",
       " 'Na',\n",
       " 'Na']"
      ]
     },
     "execution_count": 9,
     "metadata": {},
     "output_type": "execute_result"
    }
   ],
   "source": [
    "print(Na_supercell.numbers)\n",
    "Na_supercell.numbers[0] = 3\n",
    "Na_supercell.get_chemical_symbols()"
   ]
  },
  {
   "cell_type": "markdown",
   "metadata": {},
   "source": [
    "Or we can remove an atom altogether to form a vacancy. We simply use the pop() method of Python lists."
   ]
  },
  {
   "cell_type": "code",
   "execution_count": 10,
   "metadata": {},
   "outputs": [
    {
     "data": {
      "text/plain": [
       "Atom('Na', [np.float64(6.75), np.float64(6.75), np.float64(6.75)])"
      ]
     },
     "execution_count": 10,
     "metadata": {},
     "output_type": "execute_result"
    }
   ],
   "source": [
    "Na_supercell.pop(15)"
   ]
  },
  {
   "cell_type": "markdown",
   "metadata": {},
   "source": [
    "Now let's write the structure to a file so was can visualize what we've done to it. Crystallographic Information File (CIF) format is the most common for periodic structures today, and is understood by most structure visualizers and converters."
   ]
  },
  {
   "cell_type": "code",
   "execution_count": 11,
   "metadata": {},
   "outputs": [],
   "source": [
    "from ase.io import write\n",
    "\n",
    "write(\"sc.struct\", Na_supercell)"
   ]
  },
  {
   "cell_type": "markdown",
   "metadata": {},
   "source": [
    "We cans use VESTA to look at the result, or the ASE built-in viewer like so:"
   ]
  },
  {
   "cell_type": "code",
   "execution_count": 12,
   "metadata": {},
   "outputs": [],
   "source": [
    "Na_supercell.edit()"
   ]
  },
  {
   "cell_type": "markdown",
   "metadata": {},
   "source": [
    "To generate a surface slab supercell we can use ASE builder like so, and write it to a file"
   ]
  },
  {
   "cell_type": "code",
   "execution_count": 13,
   "metadata": {},
   "outputs": [],
   "source": [
    "from ase.build import bcc100\n",
    "\n",
    "slab = bcc100(\"Na\", size=(2, 4, 3), vacuum=10.0)\n",
    "write(\"slab.struct\", slab)"
   ]
  },
  {
   "cell_type": "markdown",
   "metadata": {},
   "source": [
    "You can look at the structure in VESTA and also get the atomic positions and cell information"
   ]
  },
  {
   "cell_type": "code",
   "execution_count": 14,
   "metadata": {
    "scrolled": true
   },
   "outputs": [
    {
     "data": {
      "text/plain": [
       "array([[ 0.   ,  0.   , 10.   ],\n",
       "       [ 4.23 ,  0.   , 10.   ],\n",
       "       [ 0.   ,  4.23 , 10.   ],\n",
       "       [ 4.23 ,  4.23 , 10.   ],\n",
       "       [ 0.   ,  8.46 , 10.   ],\n",
       "       [ 4.23 ,  8.46 , 10.   ],\n",
       "       [ 0.   , 12.69 , 10.   ],\n",
       "       [ 4.23 , 12.69 , 10.   ],\n",
       "       [ 2.115,  2.115, 12.115],\n",
       "       [ 6.345,  2.115, 12.115],\n",
       "       [ 2.115,  6.345, 12.115],\n",
       "       [ 6.345,  6.345, 12.115],\n",
       "       [ 2.115, 10.575, 12.115],\n",
       "       [ 6.345, 10.575, 12.115],\n",
       "       [ 2.115, 14.805, 12.115],\n",
       "       [ 6.345, 14.805, 12.115],\n",
       "       [ 0.   ,  0.   , 14.23 ],\n",
       "       [ 4.23 ,  0.   , 14.23 ],\n",
       "       [ 0.   ,  4.23 , 14.23 ],\n",
       "       [ 4.23 ,  4.23 , 14.23 ],\n",
       "       [ 0.   ,  8.46 , 14.23 ],\n",
       "       [ 4.23 ,  8.46 , 14.23 ],\n",
       "       [ 0.   , 12.69 , 14.23 ],\n",
       "       [ 4.23 , 12.69 , 14.23 ]])"
      ]
     },
     "execution_count": 14,
     "metadata": {},
     "output_type": "execute_result"
    }
   ],
   "source": [
    "slab.positions"
   ]
  },
  {
   "cell_type": "code",
   "execution_count": 15,
   "metadata": {},
   "outputs": [
    {
     "data": {
      "text/plain": [
       "Cell([8.46, 16.92, 24.23])"
      ]
     },
     "execution_count": 15,
     "metadata": {},
     "output_type": "execute_result"
    }
   ],
   "source": [
    "slab.cell"
   ]
  },
  {
   "cell_type": "code",
   "execution_count": 19,
   "metadata": {},
   "outputs": [],
   "source": [
    "slab.edit()"
   ]
  },
  {
   "cell_type": "markdown",
   "metadata": {},
   "source": [
    "In the lab you will need to perform numerical sweeps of several parameters. You can use Numpy"
   ]
  },
  {
   "cell_type": "code",
   "execution_count": 17,
   "metadata": {},
   "outputs": [
    {
     "name": "stdout",
     "output_type": "stream",
     "text": [
      "[-5.         -3.88888889 -2.77777778 -1.66666667 -0.55555556  0.55555556\n",
      "  1.66666667  2.77777778  3.88888889  5.        ]\n"
     ]
    }
   ],
   "source": [
    "x = numpy.linspace(-5, 5, 10)\n",
    "y = x * x\n",
    "print(x)"
   ]
  },
  {
   "cell_type": "markdown",
   "metadata": {},
   "source": [
    "To plot the results, you can use Matplotlib"
   ]
  },
  {
   "cell_type": "code",
   "execution_count": 18,
   "metadata": {
    "scrolled": true
   },
   "outputs": [
    {
     "data": {
      "image/png": "[encoded data removed]",
      "text/plain": [
       "<Figure size 640x480 with 1 Axes>"
      ]
     },
     "metadata": {},
     "output_type": "display_data"
    }
   ],
   "source": [
    "import matplotlib.pyplot as plt\n",
    "\n",
    "plt.plot(x, x)\n",
    "plt.show()"
   ]
  },
  {
   "cell_type": "code",
   "execution_count": null,
   "metadata": {},
   "outputs": [],
   "source": []
  }
 ],
 "metadata": {
  "kernelspec": {
   "display_name": "Python 3 (ipykernel)",
   "language": "python",
   "name": "python3"
  },
  "language_info": {
   "codemirror_mode": {
    "name": "ipython",
    "version": 3
   },
   "file_extension": ".py",
   "mimetype": "text/x-python",
   "name": "python",
   "nbconvert_exporter": "python",
   "pygments_lexer": "ipython3",
   "version": "3.13.5"
  }
 },
 "nbformat": 4,
 "nbformat_minor": 4
}
